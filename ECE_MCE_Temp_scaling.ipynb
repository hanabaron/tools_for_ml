{
 "cells": [
  {
   "cell_type": "markdown",
   "id": "6fec6bdc-ce0b-4d3a-b19c-2b235e306841",
   "metadata": {},
   "source": [
    "# Calculate ECE and MCE "
   ]
  },
  {
   "cell_type": "markdown",
   "id": "cb42a960-f305-4fe2-bad5-a8885eb2a320",
   "metadata": {},
   "source": [
    "Given probabilities of prediction from any machine learning algorithm (in a form of numpy array) with the predictions (in a form of one hot encoding)- calculate the ECE and MCE and plot the graph of the distribution."
   ]
  },
  {
   "cell_type": "markdown",
   "id": "0f558602-5eb6-48c2-ba0b-3f42a21cde2f",
   "metadata": {},
   "source": [
    "input - <br>\n",
    "preds - probabilities of the prediction <br>\n",
    "example for 3 classes- "
   ]
  },
  {
   "attachments": {
    "4eaaf087-e7be-4a12-9c03-73a28810b10b.png": {
     "image/png": "[encoded data removed]"
    }
   },
   "cell_type": "markdown",
   "id": "cad3cfdc-ca30-4e61-a55f-4c904718ec3b",
   "metadata": {},
   "source": [
    "![image.png](attachment:4eaaf087-e7be-4a12-9c03-73a28810b10b.png)"
   ]
  },
  {
   "cell_type": "markdown",
   "id": "8616fafd-8a6a-41e2-a7dd-422f6c9527a5",
   "metadata": {},
   "source": [
    "labels_oneh - predictions in one hot encoding <br>\n",
    "example for 3 classes- "
   ]
  },
  {
   "attachments": {
    "bc7877b5-cea4-428e-bda3-11fc0acf4e8f.png": {
     "image/png": "[encoded data removed]"
    }
   },
   "cell_type": "markdown",
   "id": "11d7d901-a1a1-46b0-980b-c00b963edf11",
   "metadata": {},
   "source": [
    "![image.png](attachment:bc7877b5-cea4-428e-bda3-11fc0acf4e8f.png)"
   ]
  },
  {
   "cell_type": "code",
   "execution_count": null,
   "id": "5c967e88-d333-40a2-8d70-d9e3804b2a4c",
   "metadata": {},
   "outputs": [],
   "source": [
    "import numpy as np\n",
    "from sklearn.datasets import make_blobs\n",
    "from numpy.random import uniform, normal, shuffle\n",
    "\n",
    "import matplotlib.pyplot as plt\n",
    "import seaborn as sns"
   ]
  },
  {
   "cell_type": "code",
   "execution_count": null,
   "id": "d4a20e1e-7d7d-4ae4-bae7-aa73ffdf16ce",
   "metadata": {},
   "outputs": [],
   "source": [
    "def get_metrics(preds,labels_oneh):\n",
    "    ECE = 0\n",
    "    MCE = 0\n",
    "    bins, _, bin_accs, bin_confs, bin_sizes = calc_bins(preds,labels_oneh)\n",
    "\n",
    "    for i in range(len(bins)):\n",
    "        abs_conf_dif = abs(bin_accs[i] - bin_confs[i])\n",
    "        ECE += (bin_sizes[i] / sum(bin_sizes)) * abs_conf_dif\n",
    "        MCE = max(MCE, abs_conf_dif)\n",
    "\n",
    "    return ECE, MCE\n",
    "\n",
    "def calc_bins(preds,labels_oneh):\n",
    "    # Assign each prediction to a bin\n",
    "    num_bins = 5\n",
    "    bins = np.linspace(0.1, 1, num_bins)\n",
    "    binned = np.digitize(preds, bins)\n",
    "\n",
    "    # Save the accuracy, confidence and size of each bin\n",
    "    bin_accs = np.zeros(num_bins)\n",
    "    bin_confs = np.zeros(num_bins)\n",
    "    bin_sizes = np.zeros(num_bins)\n",
    "\n",
    "    for bin in range(num_bins):\n",
    "#         print(preds[binned == bin])\n",
    "        bin_sizes[bin] = len(preds[binned == bin])\n",
    "        if bin_sizes[bin] > 0:\n",
    "#             print(labels_oneh[binned==bin])\n",
    "            bin_accs[bin] = (labels_oneh[binned==bin]).sum() / bin_sizes[bin]\n",
    "            bin_confs[bin] = (preds[binned==bin]).sum() / bin_sizes[bin]\n",
    "\n",
    "    return bins, binned, bin_accs, bin_confs, bin_sizes\n",
    "\n",
    "import matplotlib.patches as mpatches\n",
    "\n",
    "def draw_reliability_graph(preds,labels_oneh):\n",
    "    ECE, MCE = get_metrics(preds,labels_oneh)\n",
    "    bins, _, bin_accs, _, _ = calc_bins(preds,labels_oneh)\n",
    "\n",
    "    fig = plt.figure(figsize=(8, 8))\n",
    "    ax = fig.gca()\n",
    "\n",
    "    # x/y limits\n",
    "    ax.set_xlim(0, 1.05)\n",
    "    ax.set_ylim(0, 1)\n",
    "\n",
    "    # x/y labels\n",
    "    plt.xlabel('Confidence')\n",
    "    plt.ylabel('Accuracy')\n",
    "\n",
    "    # Create grid\n",
    "    ax.set_axisbelow(True) \n",
    "    ax.grid(color='gray', linestyle='dashed')\n",
    "\n",
    "    # Error bars\n",
    "    plt.bar(bins, bins,  width=0.1, alpha=0.3, edgecolor='black', color='r', hatch='\\\\')\n",
    "\n",
    "    # Draw bars and identity line\n",
    "    plt.bar(bins, bin_accs, width=0.1, alpha=1, edgecolor='black', color='b')\n",
    "    plt.plot([0,1],[0,1], '--', color='gray', linewidth=2)\n",
    "\n",
    "    # Equally spaced axes\n",
    "    plt.gca().set_aspect('equal', adjustable='box')\n",
    "\n",
    "    # ECE and MCE legend\n",
    "    ECE_patch = mpatches.Patch(color='green', label='ECE = {:.2f}%'.format(ECE*100))\n",
    "    MCE_patch = mpatches.Patch(color='red', label='MCE = {:.2f}%'.format(MCE*100))\n",
    "    plt.legend(handles=[ECE_patch, MCE_patch])\n",
    "\n",
    "    #plt.show()\n",
    "\n",
    "    plt.savefig('calibrated_network.png', bbox_inches='tight')\n"
   ]
  },
  {
   "cell_type": "code",
   "execution_count": null,
   "id": "bafd23ff-7f56-447a-a2e0-822f2b6fdd5f",
   "metadata": {},
   "outputs": [],
   "source": [
    "### lets try to convert predictions to one_hot_encoding?\n",
    "def convert_predictions_to_oneh(prediction)\n",
    "\"\"\"\n",
    "convert 3 class prediction to one hot encoding format\n",
    "input - prediction (0 or 1 or 2)\n",
    "output - new_oneh\n",
    "\"\"\"\n",
    "    new_oneh = []\n",
    "    for pred in prediction.tolist():\n",
    "        if pred == 0:\n",
    "            new_oneh.append([1,0,0])\n",
    "        if pred == 1:\n",
    "            new_oneh.append([0,1,0])\n",
    "        if pred == 2:\n",
    "            new_oneh.append([0,0,1])\n",
    "    return new_oneh"
   ]
  },
  {
   "cell_type": "code",
   "execution_count": null,
   "id": "b6c21646-4158-4f7a-b67b-e173c62ea87a",
   "metadata": {},
   "outputs": [],
   "source": [
    "new_oneh = convert_predictions_to_oneh(test_data['label'])\n",
    "labels_oneh = np.array(new_oneh)\n",
    "draw_reliability_graph(np.array(prob_total_list))"
   ]
  },
  {
   "cell_type": "markdown",
   "id": "586ca8fe-b261-418a-953c-35e21c3787b6",
   "metadata": {},
   "source": [
    "### note - in case you want to compere the results of the scaled logits- you should create the scaled logits after softmax (probabilities) and insert to the function"
   ]
  },
  {
   "cell_type": "markdown",
   "id": "5c8710d7-b05b-4ba9-8933-9f86ab31d218",
   "metadata": {},
   "source": [
    "example of output - "
   ]
  },
  {
   "attachments": {
    "eb4120a7-399a-4962-84b3-02cac9f8fc15.png": {
     "image/png": "[encoded data removed]"
    }
   },
   "cell_type": "markdown",
   "id": "3de08602-bf0f-46a4-9f27-db1787ce9a5b",
   "metadata": {},
   "source": [
    "![image.png](attachment:eb4120a7-399a-4962-84b3-02cac9f8fc15.png)"
   ]
  },
  {
   "cell_type": "markdown",
   "id": "99092d71-7f2a-4118-af75-a1f24d913579",
   "metadata": {},
   "source": [
    "# Temperature scaling "
   ]
  },
  {
   "cell_type": "markdown",
   "id": "e30cc5e4-232c-4dc1-a3bd-fca1211d6570",
   "metadata": {},
   "source": [
    "In a case you wish to calculate the ECE when you only have the logits, true labels and predicted labels, you can use the following functions"
   ]
  },
  {
   "cell_type": "code",
   "execution_count": null,
   "id": "c9a271d9-164a-4e8d-8d06-416ce6c4f8f4",
   "metadata": {},
   "outputs": [],
   "source": [
    "def get_ece(predicted_posterior, predicted_label, true_label, R=20):\n",
    "\"\"\"\n",
    "calculate ECE\n",
    "\"\"\"\n",
    "    bin_size = 1/R\n",
    "    total_sample = len(true_label)\n",
    "    K = predicted_posterior.shape[1]\n",
    "\n",
    "    score = 0\n",
    "    for k in range(K):\n",
    "        posteriors = predicted_posterior[:,k]\n",
    "        sorted_indx = np.argsort(posteriors)\n",
    "        for r in range(R):        \n",
    "            indx = sorted_indx[r*R:(r+1)*R]\n",
    "            predicted_label_ = predicted_label[indx]\n",
    "            true_label_ = true_label[indx]\n",
    "\n",
    "            indx_k = np.where(true_label_ == k)[0]\n",
    "            acc = (\n",
    "                np.nan_to_num(np.mean(predicted_label[indx_k] == k))\n",
    "                if indx_k.size != 0\n",
    "                else 0\n",
    "            )\n",
    "            conf = np.nan_to_num(np.mean(posteriors[indx_k])) if indx_k.size != 0 else 0\n",
    "            score += len(indx) * np.abs(acc - conf)\n",
    "\n",
    "    score /= (K*total_sample)\n",
    "    return score"
   ]
  },
  {
   "cell_type": "code",
   "execution_count": null,
   "id": "5416d88f-32d4-4401-b66d-86b3f198f168",
   "metadata": {},
   "outputs": [],
   "source": [
    "def temperature_scale(logits, temperature):\n",
    "\"\"\"\n",
    "Scaling the logits with the given temperature\n",
    "input - logits from any model, temperature - floaf number.\n",
    "output - scaled array by gven temperature\n",
    "\"\"\"\n",
    "    temperature = np.ones_like(logits) * temperature\n",
    "#     print(temperature)\n",
    "    return logits / temperature"
   ]
  },
  {
   "cell_type": "code",
   "execution_count": null,
   "id": "c21a3d94-6222-4a88-8f5a-a75590ad568b",
   "metadata": {},
   "outputs": [],
   "source": [
    "def softmax_np(x):\n",
    "\"\"\"\n",
    "calculating softmax on array\n",
    "input - x - array of logits\n",
    "output - probs - array of probailies after softmax \n",
    "\"\"\"\n",
    "    maxes = np.max(x, axis=1, keepdims=True)[0]\n",
    "    x_exp = np.exp(x-maxes)\n",
    "    x_exp_sum = np.sum(x_exp, 1, keepdims=True)\n",
    "    probs = x_exp/x_exp_sum\n",
    "    return probs\n",
    "\n",
    "def ECE_temp_scaled_probability(temperature, logit_total_list, true_labels,predicted_labels):\n",
    "\"\"\"\n",
    "calculate ECE after scaling with temperature\n",
    "input - temperature\n",
    "output - the ECE score after scaling.\n",
    "\"\"\"\n",
    "    logits = np.array(logit_total_list)\n",
    "    x = temperature_scale(logits, temperature)\n",
    "    m = softmax_np(x)\n",
    "    true_label = np.array(true_labels.tolist())\n",
    "    predicted_label = np.array(predicted_labels)\n",
    "    predicted_posterior = m\n",
    "    score = get_ece(predicted_posterior, predicted_label, true_label, R=20)\n",
    "    print(f\"ECE score for T = {temperature} is -\",score*100,\"%\")\n",
    "    return m"
   ]
  },
  {
   "cell_type": "code",
   "execution_count": null,
   "id": "f1d56c34-70c4-40b0-864e-00cdd0ad9f3a",
   "metadata": {},
   "outputs": [],
   "source": [
    "temp_1 = ECE_temp_scaled_probability(temperature = 1,logit_total_list,cleaned_test_df['label'],cat_list)\n",
    "temp_2 = ECE_temp_scaled_probability(temperature = 2,logit_total_list,cleaned_test_df['label'],cat_list)"
   ]
  },
  {
   "cell_type": "markdown",
   "id": "255b53d8-522f-4b8a-b72b-d6556e195adb",
   "metadata": {},
   "source": [
    "output example - <br>\n",
    "ECE score for T = 1 is - 1.5152919617140699 %<br>\n",
    "ECE score for T = 2 is - 13.158103320312936 %<br>"
   ]
  }
 ],
 "metadata": {
  "kernelspec": {
   "display_name": "Python 3 (ipykernel)",
   "language": "python",
   "name": "python3"
  },
  "language_info": {
   "codemirror_mode": {
    "name": "ipython",
    "version": 3
   },
   "file_extension": ".py",
   "mimetype": "text/x-python",
   "name": "python",
   "nbconvert_exporter": "python",
   "pygments_lexer": "ipython3",
   "version": "3.9.7"
  }
 },
 "nbformat": 4,
 "nbformat_minor": 5
}
